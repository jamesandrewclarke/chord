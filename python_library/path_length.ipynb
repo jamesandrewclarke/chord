{
 "cells": [
  {
   "cell_type": "markdown",
   "metadata": {},
   "source": [
    "# Imports"
   ]
  },
  {
   "cell_type": "code",
   "execution_count": null,
   "metadata": {},
   "outputs": [],
   "source": [
    "import numpy as np\n",
    "import matplotlib.pyplot as plt\n",
    "import seaborn as sns\n",
    "from scipy.optimize import curve_fit\n",
    "from scipy.stats import norm\n",
    "import pandas as pd\n",
    "\n",
    "import matplotlib.ticker\n",
    "\n",
    "import glob, re"
   ]
  },
  {
   "cell_type": "markdown",
   "metadata": {},
   "source": [
    "# Matplotlib Configuration"
   ]
  },
  {
   "cell_type": "code",
   "execution_count": null,
   "metadata": {},
   "outputs": [],
   "source": [
    "import scienceplots\n",
    "plt.style.use('science')\n",
    "plt.rcParams['figure.dpi'] = 300\n",
    "# plt.rcParams['axes.fontsize'] = 8 "
   ]
  },
  {
   "cell_type": "markdown",
   "metadata": {},
   "source": [
    "# Input"
   ]
  },
  {
   "cell_type": "code",
   "execution_count": null,
   "metadata": {},
   "outputs": [],
   "source": [
    "tests = {}\n",
    "for np_file in glob.glob('results/path_length_test/*.npy'):\n",
    "    N = int(re.findall(r'\\d+', np_file)[0])\n",
    "    data = np.load(np_file)\n",
    "    tests[N] = data"
   ]
  },
  {
   "cell_type": "markdown",
   "metadata": {},
   "source": [
    "# Plots"
   ]
  },
  {
   "cell_type": "code",
   "execution_count": null,
   "metadata": {},
   "outputs": [],
   "source": [
    "size = 4000\n",
    "\n",
    "hist_data = tests[size][:,0]\n",
    "\n",
    "labels, counts = np.unique(hist_data, return_counts=True)\n",
    "\n",
    "fig, ax = plt.subplots()\n",
    "\n",
    "ax.bar(labels, counts, align='center', width=1.0, edgecolor='black')\n",
    "ax.set_xlabel(\"Path length\",fontsize=8)\n",
    "ax.set_ylabel(\"Counts\",fontsize=8)\n",
    "\n",
    "mu, std = norm.fit(hist_data)\n",
    "\n",
    "xmin, xmax = plt.xlim()\n",
    "\n",
    "x = np.linspace(xmin, xmax, 1000)\n",
    "p = norm.pdf(x, mu, std)\n",
    "\n",
    "plt.plot(x, p * len(hist_data), color='orange')\n",
    "\n",
    "plt.legend([f\"$\\mu = {mu:0.2f}, \\sigma = {std:0.2f}$\"], loc=2, prop={'size': 6})\n",
    "\n",
    "plt.savefig(\"figures/path_length_4000.eps\", format=\"eps\")"
   ]
  },
  {
   "cell_type": "markdown",
   "metadata": {},
   "source": [
    "# Table"
   ]
  },
  {
   "cell_type": "code",
   "execution_count": null,
   "metadata": {},
   "outputs": [],
   "source": [
    "path_lengths = np.array([tests[key][:,0] for key in keys],dtype=np.float64)"
   ]
  },
  {
   "cell_type": "code",
   "execution_count": null,
   "metadata": {},
   "outputs": [],
   "source": [
    "means = np.mean(path_lengths, axis=1)"
   ]
  },
  {
   "cell_type": "code",
   "execution_count": null,
   "metadata": {},
   "outputs": [],
   "source": [
    "w, _ = curve_fit(lambda x,a,b: a*np.log2(x)+b, keys, means)"
   ]
  },
  {
   "cell_type": "code",
   "execution_count": null,
   "metadata": {},
   "outputs": [],
   "source": [
    "keys=[10,25,50,100,200,400,1000,2000,4000]\n",
    "paths =[tests[i][:,0] for i in keys]\n",
    "\n",
    "fig, ax = plt.subplots()\n",
    "\n",
    "bp = ax.boxplot(paths, widths=[k/8 for k in keys], showfliers=False, showmeans=True, whis=(1, 99), meanprops=dict(marker=\".\", ms=4), positions=keys)\n",
    "ax.set_xscale(\"log\")\n",
    "\n",
    "x = np.linspace(10, 4000)\n",
    "y = (w[0] * np.log2(x)) - w[1]\n",
    "\n",
    "line = ax.plot(x, y)\n",
    "\n",
    "ax.set_ylabel(\"Path length\", fontsize=8)\n",
    "ax.set_xlabel(\"Number of nodes\", fontsize=8)\n",
    "ax.xaxis.set_major_formatter(matplotlib.ticker.ScalarFormatter())\n",
    "\n",
    "ax.legend(loc=2, prop={'size': 6})\n",
    "\n",
    "line_label = f\"{w[0]:.2f}$\\log_2N$ {\"+\" if w[1] > 0 else \"-\"} {abs(w[1]):.2f}\"\n",
    "\n",
    "ax.legend([line[0], bp['medians'][0], bp['means'][0]], [line_label, 'median', 'mean'], prop={'size': 6})\n",
    "\n",
    "plt.savefig(\"figures/path_length_spread.eps\", dpi=2000)"
   ]
  },
  {
   "cell_type": "code",
   "execution_count": null,
   "metadata": {},
   "outputs": [],
   "source": [
    "df = pd.DataFrame([], index=keys)\n",
    "\n",
    "df[\"0.1\"] = np.percentile(paths, 0.1, axis=1)\n",
    "df[\"1\"] = np.percentile(paths, 1, axis=1)\n",
    "df[\"50\"] = np.percentile(paths, 50, axis=1)\n",
    "df[\"99\"] = np.percentile(paths, 99, axis=1)\n",
    "df[\"99.9\"] = np.percentile(paths, 99.9, axis=1)\n",
    "df[\"mean \"] = np.mean(paths, axis=1)\n",
    "df[\"logx\"] = 0.5 * np.log2(keys)"
   ]
  },
  {
   "cell_type": "code",
   "execution_count": null,
   "metadata": {},
   "outputs": [],
   "source": [
    "np.trunc(1000 * df) / 1000"
   ]
  },
  {
   "cell_type": "code",
   "execution_count": null,
   "metadata": {},
   "outputs": [],
   "source": [
    "df.to_latex()"
   ]
  },
  {
   "cell_type": "code",
   "execution_count": null,
   "metadata": {},
   "outputs": [],
   "source": [
    "df.to_latex('path_table.tex', float_format=\"%.2f\")"
   ]
  },
  {
   "cell_type": "code",
   "execution_count": null,
   "metadata": {},
   "outputs": [],
   "source": []
  }
 ],
 "metadata": {
  "kernelspec": {
   "display_name": "venv",
   "language": "python",
   "name": "python3"
  },
  "language_info": {
   "codemirror_mode": {
    "name": "ipython",
    "version": 3
   },
   "file_extension": ".py",
   "mimetype": "text/x-python",
   "name": "python",
   "nbconvert_exporter": "python",
   "pygments_lexer": "ipython3",
   "version": "3.12.3"
  }
 },
 "nbformat": 4,
 "nbformat_minor": 2
}
