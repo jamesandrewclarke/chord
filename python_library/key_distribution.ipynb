{
 "cells": [
  {
   "cell_type": "markdown",
   "metadata": {},
   "source": [
    "# Imports"
   ]
  },
  {
   "cell_type": "code",
   "execution_count": null,
   "metadata": {},
   "outputs": [],
   "source": [
    "import numpy as np\n",
    "import matplotlib.pyplot as plt\n",
    "\n",
    "import matplotlib.ticker\n",
    "\n",
    "import glob"
   ]
  },
  {
   "cell_type": "markdown",
   "metadata": {},
   "source": [
    "# Matplotlib configuration"
   ]
  },
  {
   "cell_type": "code",
   "execution_count": null,
   "metadata": {},
   "outputs": [],
   "source": [
    "import scienceplots\n",
    "plt.style.use('science')\n",
    "plt.rcParams['figure.dpi'] = 300"
   ]
  },
  {
   "cell_type": "markdown",
   "metadata": {},
   "source": [
    "# Input"
   ]
  },
  {
   "cell_type": "code",
   "execution_count": null,
   "metadata": {},
   "outputs": [],
   "source": [
    "tests = {}\n",
    "for np_file in glob.glob('results/key_distribution_test/*.npy'):\n",
    "    data = np.load(np_file)\n",
    "    N = len(data)\n",
    "    tests[N] = data"
   ]
  },
  {
   "cell_type": "markdown",
   "metadata": {},
   "source": [
    "# Plots"
   ]
  },
  {
   "cell_type": "code",
   "execution_count": null,
   "metadata": {},
   "outputs": [],
   "source": [
    "fig, ax = plt.subplots()\n",
    "\n",
    "keys = [50,75,100,150,200,300,400,500,700,800,900,1000]\n",
    "data = [tests[i] for i in keys]\n",
    "\n",
    "ax.boxplot(data, widths=[k/13 for k in keys], whis=(1,99), showfliers=False, positions=keys)\n",
    "ax.set_xlabel(\"Number of nodes\")\n",
    "ax.set_ylabel(\"Keys per node\")\n",
    "ax.set_xscale(\"log\")\n",
    "\n",
    "ax.xaxis.set_major_locator(matplotlib.ticker.LogLocator(numticks=10))\n",
    "ax.xaxis.set_major_formatter('{x:.0f}')\n",
    "\n",
    "plt.savefig(\"figures/key_distribution_box.png\", dpi=1200)"
   ]
  },
  {
   "cell_type": "code",
   "execution_count": null,
   "metadata": {},
   "outputs": [],
   "source": [
    "def individual_bar(n):\n",
    "    plt.title(f\"5000 keys over {n} Nodes\")\n",
    "    plt.bar(range(n), tests[n])\n",
    "    plt.xlabel(\"Node\")\n",
    "    plt.ylabel(\"Number of keys\")\n",
    "    plt.ylim((0,500))\n",
    "    plt.savefig(f\"figures/individual_bar_{n}.png\", dpi=1200)"
   ]
  },
  {
   "cell_type": "code",
   "execution_count": null,
   "metadata": {},
   "outputs": [],
   "source": [
    "individual_bar(100)"
   ]
  },
  {
   "cell_type": "code",
   "execution_count": null,
   "metadata": {},
   "outputs": [],
   "source": [
    "individual_bar(50)"
   ]
  }
 ],
 "metadata": {
  "kernelspec": {
   "display_name": "venv",
   "language": "python",
   "name": "python3"
  },
  "language_info": {
   "codemirror_mode": {
    "name": "ipython",
    "version": 3
   },
   "file_extension": ".py",
   "mimetype": "text/x-python",
   "name": "python",
   "nbconvert_exporter": "python",
   "pygments_lexer": "ipython3",
   "version": "3.12.3"
  }
 },
 "nbformat": 4,
 "nbformat_minor": 2
}
